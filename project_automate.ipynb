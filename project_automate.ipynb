{
 "cells": [
  {
   "cell_type": "code",
   "execution_count": 1,
   "id": "9f986be6",
   "metadata": {},
   "outputs": [],
   "source": [
    "from bs4 import BeautifulSoup as bs\n",
    "import requests"
   ]
  },
  {
   "cell_type": "code",
   "execution_count": 2,
   "id": "c832bf52",
   "metadata": {},
   "outputs": [
    {
     "data": {
      "text/plain": [
       "200"
      ]
     },
     "execution_count": 2,
     "metadata": {},
     "output_type": "execute_result"
    }
   ],
   "source": [
    "link=\"https://en.wikipedia.org/wiki/summer\"\n",
    "requests.get(link).status_code"
   ]
  },
  {
   "cell_type": "code",
   "execution_count": 3,
   "id": "e20953e7",
   "metadata": {},
   "outputs": [],
   "source": [
    "page=requests.get(link)\n",
    "soup=bs(page.content,\"html.parser\")\n",
    "# print(soup.prettify())"
   ]
  },
  {
   "cell_type": "code",
   "execution_count": 4,
   "id": "0145f43d",
   "metadata": {},
   "outputs": [],
   "source": [
    "body=soup.body\n",
    "data=\"\"\n",
    "new=[]\n",
    "for i in body.find_all(\"p\"):\n",
    "    data+=i.text\n",
    "    for j in i.find_all(\"a\"):\n",
    "        new.append(str(j.text))\n",
    "        "
   ]
  },
  {
   "cell_type": "code",
   "execution_count": 5,
   "id": "e10cb499",
   "metadata": {},
   "outputs": [],
   "source": [
    "for i in new:\n",
    "    if i in data:\n",
    "        data=data.replace(i,\"\")\n",
    "    \n",
    "\n",
    "for i in new:\n",
    "    if i in data:\n",
    "        print(\"true\")\n",
    "    \n",
    "    "
   ]
  },
  {
   "cell_type": "code",
   "execution_count": 6,
   "id": "500552f6",
   "metadata": {},
   "outputs": [
    {
     "data": {
      "text/plain": [
       "'\\n\\nSummer is the  of the four  , ing after  and before . At or around the  (about 3 days before  Day), the earliest sunrise and latest sunset occurs, the days are longest and the nights are shortest, with  decreasing as the season progresses after the . The date of the beginning of summer varies according to , tradition, and culture. When it is summer in the , it is  in the , and vice versa.\\nFrom an astronomical view, the  and s would be the middle of the respective , but sometimes astronomical summer is defined as starting at the , the time of maximal , often identified with the 21st day of June or December. A variable  means that the  centre of the season, which is based on average temperature patterns, occurs several weeks after the time of maximal . The  convention is to define summer as comprising the months of June, July, and August in the northern hemisphere and the months of December, January, and February in the southern hemisphere. Under  definitions, all  are arbitrarily set to start at the beginning of a calendar month and end at the end of a month. This  definition of summer also aligns with the commonly viewed notion of summer as the season with the longest (and warmest) days of the year, in which daylight predominates. The  reckoning of  is used in , , ,  and . It is also used by many in the  and in . In , the summer months according to the national  service, , are June, July and August. However, according to the , summer begins on 1 May and ends on 1 August. School textbooks in  follow the cultural norm of summer commencing on 1 May rather than the  definition of 1 June.\\nDays continue to lengthen from equinox to  and summer days progressively shorten after the , so  summer encompasses the build-up to the longest day and a diminishing thereafter, with summer having many more hours of daylight than . Reckoning by hours of daylight alone,  marks the midpoint, not the beginning, of the .  takes place over the shortest night of the year, which is the , or on a nearby date that varies with tradition.\\nWhere a  of half a season or more is common, reckoning based on astronomical markers is shifted half a season. By this method, in North America, summer is the period from the  (usually 20 or 21 June in the ) to the  equinox.\\nReckoning by cultural festivals, the summer season in the  is traditionally regarded as beginning on  (the last weekend in May) and ending on  (the first Monday in September), more closely in line with the  definition for the parts of the country that have four-season weather. The similar  tradition starts summer on  one week prior (although summer conditions vary widely across \\'s expansive territory) and ends, as in the , on .\\nIn , summer starts on or around 5 May, with the  () known as  (立夏), i.e. \"establishment of summer\", and it ends on or around 6 August.\\nIn southern and southeast Asia, where the  occurs, summer is more generally defined as lasting from March, April, May and June, the warmest time of the year, ending with the onset of the  .[]\\nBecause the temperature lag is shorter in the oceanic  southern hemisphere, most countries in this region use the  definition with summer starting on 1 December and ending on the last day of February.\\nSummer is traditionally associated with hot or warm weather. In Mediterranean s, it is also associated with dry weather, while in other places (particularly in  because of the ) it is associated with rainy weather. The wet season is the main period of vegetation growth within the savanna  regime. Where the wet season is associated with a seasonal shift in the , it is known as a .\\nIn the northern Atlantic Ocean, a distinct tropical cyclone season occurs from 1 June to 30 November. The statistical peak of the  is 10 September. The Northeast Pacific Ocean has a broader period of activity, but in a similar timeframe to the Atlantic. The Northwest Pacific sees tropical cyclones year-round, with a minimum in February and March and a peak in early September. In the North n basin, storms are most common from April to December, with peaks in May and November. In the , the tropical cyclone season runs from the start of November until the end of April with peaks in mid-February to early March.\\n season in the  and  runs in the  through summer but sometimes can run as late as October or even November in the . These storms can produce , strong winds and , usually during the afternoon and evening.\\nSchools and universities typically have a  to take advantage of the warmer weather and longer days. In almost all countries, children are out of school during this time of year for , although dates vary. In the , public schools usually end in late May in , while colleges finish in early May. Public school traditionally resumes near , while higher institutions often resume in mid-August. In  and , school ends in mid-July and resumes again in early September; in , the summer holiday begins in late June and ends in mid-to late-August. Similarly, in  the summer holiday starts on the last or second-last Friday in June and ends in late August or on the first Tuesday of September, with the exception of when that date s before , in which case, ends on the second Tuesday of the month. In  the summer holiday begins at the end of May and ends on 31 August.\\nIn the , school summer holiday dates include the major holidays of  and . School summer holidays in , New Zealand and  begin in early December and end in early February, with dates varying between states. In , the new school year usually starts during the second week of January, thus aligning the  with the . In , school ends in late April and resumes in early or mid-June. In  and , schools usually finish for summer vacation in mid-July and resume in the later weeks of September or the first week of October.\\nA wide range of public holidays  during summer, including:\\nPeople generally take advantage of the high temperatures by spending more time outdoors during summer. Activities such as travelling to the  and  occur during the summer months. Sports such as , , , , , , , ,  and  are played.  also occur. These include , , , ,  and . The modern  have been held during the summer months every four years since 1896. However, the 2000 Summer , in , were held during the  and the 2016 Summer , in , were held in .\\nSummer is normally a low point in  viewing, and   generally reflect this by not scheduling new episodes of their most popular shows between the end of May  and the beginning of the  season in September, instead scheduling low-cost reality  shows and  commitments to already-cancelled series. There is an exception to this with children\\'s . Many  shows made for children and are popular with children are released during the summer months, especially on children\\'s cable channels such as the  in the , as children are off school. , for example, ends its pre-school programming earlier in the day for older school-age children in the summer months while it reverts to the original scheduling as the new school year begins. Conversely, the music and film industries generally experience higher returns during the summer than other times of the year and market their summer hits accordingly. Summer is most popular for  to be released theatrically in .[]\\nWith most school-age children and college students (except those attending  and ) on summer vacation during the summer months, especially in the , travel and vacationing traditionally peak during the summer, with the volume of travel in a typical summer weekend rivalled only by . Teenagers and college students often take  in industries that cater to recreation. Business activity for the recreation, tourism, restaurant, and retail industries peaks during the summer months as well as the holiday season.\\nChildren cycling during summer\\n\\n bear fruit when summer is near\\nUsing a handheld  in summer\\n'"
      ]
     },
     "execution_count": 6,
     "metadata": {},
     "output_type": "execute_result"
    }
   ],
   "source": [
    "\n",
    "data"
   ]
  },
  {
   "cell_type": "code",
   "execution_count": 7,
   "id": "c77ac36c",
   "metadata": {},
   "outputs": [],
   "source": [
    "with open(\"test.txt\",\"w\",encoding=\"utf8\") as f:\n",
    "        f.write(data)\n",
    "    \n"
   ]
  },
  {
   "cell_type": "code",
   "execution_count": null,
   "id": "1a10708a",
   "metadata": {},
   "outputs": [],
   "source": []
  },
  {
   "cell_type": "code",
   "execution_count": null,
   "id": "6b03b255",
   "metadata": {},
   "outputs": [],
   "source": []
  }
 ],
 "metadata": {
  "kernelspec": {
   "display_name": "Python 3 (ipykernel)",
   "language": "python",
   "name": "python3"
  },
  "language_info": {
   "codemirror_mode": {
    "name": "ipython",
    "version": 3
   },
   "file_extension": ".py",
   "mimetype": "text/x-python",
   "name": "python",
   "nbconvert_exporter": "python",
   "pygments_lexer": "ipython3",
   "version": "3.9.2"
  }
 },
 "nbformat": 4,
 "nbformat_minor": 5
}
